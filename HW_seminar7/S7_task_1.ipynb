{
 "cells": [
  {
   "cell_type": "code",
   "execution_count": 4,
   "metadata": {},
   "outputs": [
    {
     "ename": "SyntaxError",
     "evalue": "invalid syntax (3640802081.py, line 1)",
     "output_type": "error",
     "traceback": [
      "\u001b[1;36m  Cell \u001b[1;32mIn[4], line 1\u001b[1;36m\u001b[0m\n\u001b[1;33m    Создать телефонный справочник с возможностью импорта и экспорта данных в нескольких форматах.\u001b[0m\n\u001b[1;37m            ^\u001b[0m\n\u001b[1;31mSyntaxError\u001b[0m\u001b[1;31m:\u001b[0m invalid syntax\n"
     ]
    }
   ],
   "source": [
    "Создать телефонный справочник с возможностью импорта и экспорта данных в нескольких форматах.\n",
    "под форматами понимаем структуру файлов, например:в файле на одной строке хранится \n",
    "одна часть записи, пустая строка - разделитель\n",
    "Фамилия_1 \n",
    "Имя_1 \n",
    "Телефон_1 \n",
    "Описание_1\n",
    "\n",
    "Фамилия_2 \n",
    "Имя_2 \n",
    "Телефон_2 \n",
    "Описание_2\n",
    "\n",
    "и.т.д. в файле на одной строке хранится все записи, символ разделитель - *;***\n",
    "\n",
    "Фамилия_1,Имя_1,Телефон_1,Описание_1\n",
    "\n",
    "Фамилия_2,Имя_2,Телефон_2,Описание_2\n",
    "\n",
    "COLUMNS = [\"Фамилия\", \"Имя\", \"Телефон\", \"Описание\",]\n",
    "def add_row():\n",
    "     return [input(f\"Введите: {i}: \") for i in COLUMNS]\n",
    "def write(arr):\n",
    "    with open(\"file_1.txt\", \"a\") as f:\n",
    "        f.write(\", \".join(arr) + \"\\n\")\n",
    "        \n",
    "def write_one_column(arr):\n",
    "    with open(\"file_2.txt\", \"a\") as f:\n",
    "        for value in arr:\n",
    "            f.write(value + \"\\n\")\n",
    "        f.write(\"\\n\")\n",
    "def read(path):\n",
    "    with open(path, \"r\") as f:\n",
    "        return [i.split(\", \") for i in f.read().strip().split(\"\\n\")]\n",
    "def print_data(arr):\n",
    "    print(\", \".join(COLUMNS))\n",
    "    for i in arr:\n",
    "        print(\", \".join(i))\n",
    "for _ in range(2):\n",
    "    row = add_row()\n",
    "    write(row)\n",
    "    write_one_column(row)\n",
    "Введите: Фамилия: asd\n",
    "Введите: Имя: asd\n",
    "Введите: Телефон: asd\n",
    "Введите: Описание: asd\n",
    "Введите: Фамилия: asd\n",
    "Введите: Имя: asd\n",
    "Введите: Телефон: asd\n",
    "Введите: Описание: sad\n",
    "print_data(read(\"file_1.txt\"))\n",
    "Фамилия, Имя, Телефон, Описание\n",
    "asd, asd, asd, asd\n",
    "asd, asd, asd, asd\n"
   ]
  }
 ],
 "metadata": {
  "kernelspec": {
   "display_name": "Python 3",
   "language": "python",
   "name": "python3"
  },
  "language_info": {
   "codemirror_mode": {
    "name": "ipython",
    "version": 3
   },
   "file_extension": ".py",
   "mimetype": "text/x-python",
   "name": "python",
   "nbconvert_exporter": "python",
   "pygments_lexer": "ipython3",
   "version": "3.10.9"
  },
  "orig_nbformat": 4,
  "vscode": {
   "interpreter": {
    "hash": "49a78e8700fd94a5058b7952b2dc9d37118c9f046123397616bdc30e9ff94820"
   }
  }
 },
 "nbformat": 4,
 "nbformat_minor": 2
}
