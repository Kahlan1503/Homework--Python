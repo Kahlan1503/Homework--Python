{
 "cells": [
  {
   "cell_type": "code",
   "execution_count": null,
   "metadata": {},
   "outputs": [],
   "source": [
    "Создать телефонный справочник с возможностью импорта и экспорта данных в нескольких форматах.\n",
    "под форматами понимаем структуру файлов, например:в файле на одной строке хранится одна часть \n",
    "записи, пустая строка - разделитель\n",
    "Фамилия_1\n",
    "Имя_1 \n",
    "Телефон_1 \n",
    "Описание_1\n",
    "-----------\n",
    "Фамилия_2 \n",
    "Имя_2 \n",
    "Телефон_2 \n",
    "Описание_2\n",
    "и.т.д. в файле на одной строке хранится все записи, символ разделитель - *;***\n",
    "Фамилия_1,Имя_1,Телефон_1,Описание_1\n",
    "Фамилия_2,Имя_2,Телефон_2,Описание_2"
   ]
  },
  {
   "cell_type": "code",
   "execution_count": 12,
   "metadata": {},
   "outputs": [],
   "source": [
    "COLUMNS = [\"Фамилия\", \"Имя\", \"Телефон\", \"Описание\",]"
   ]
  },
  {
   "cell_type": "code",
   "execution_count": null,
   "metadata": {},
   "outputs": [],
   "source": [
    "def add_row():\n",
    "     return [input(f\"Введите: {i}: \") for i in COLUMNS]"
   ]
  },
  {
   "cell_type": "code",
   "execution_count": null,
   "metadata": {},
   "outputs": [],
   "source": [
    "def write(arr):\n",
    "    with open(\"file_1.txt\", \"a\") as f:\n",
    "        f.write(\", \".join(arr) + \"\\n\")"
   ]
  },
  {
   "cell_type": "code",
   "execution_count": null,
   "metadata": {},
   "outputs": [],
   "source": [
    "def write_one_column(arr):\n",
    "    with open(\"file_2.txt\", \"a\") as f:\n",
    "        for value in arr:\n",
    "            f.write(value + \"\\n\")\n",
    "        f.write(\"\\n\")"
   ]
  },
  {
   "cell_type": "code",
   "execution_count": null,
   "metadata": {},
   "outputs": [],
   "source": [
    "def read(path):\n",
    "    with open(path, \"r\") as f:\n",
    "        return [i.split(\", \") for i in f.read().strip().split(\"\\n\")]"
   ]
  },
  {
   "cell_type": "code",
   "execution_count": null,
   "metadata": {},
   "outputs": [],
   "source": [
    "def print_data(arr):\n",
    "    print(\", \".join(COLUMNS))\n",
    "    for i in arr:\n",
    "        print(\", \".join(i))"
   ]
  },
  {
   "cell_type": "code",
   "execution_count": null,
   "metadata": {},
   "outputs": [],
   "source": [
    "for _ in range(2):\n",
    "    row = add_row()\n",
    "    write(row)\n",
    "    write_one_column(row)"
   ]
  },
  {
   "cell_type": "code",
   "execution_count": null,
   "metadata": {},
   "outputs": [],
   "source": [
    "Введите: Фамилия: asd\n",
    "Введите: Имя: asd\n",
    "Введите: Телефон: asd\n",
    "Введите: Описание: asd\n",
    "Введите: Фамилия: asd\n",
    "Введите: Имя: asd\n",
    "Введите: Телефон: asd\n",
    "Введите: Описание: sad"
   ]
  },
  {
   "cell_type": "code",
   "execution_count": 13,
   "metadata": {},
   "outputs": [],
   "source": [
    "print_data(read(\"file_1.txt\"))"
   ]
  },
  {
   "cell_type": "code",
   "execution_count": null,
   "metadata": {},
   "outputs": [],
   "source": [
    "Фамилия, Имя, Телефон, Описание\n",
    "asd, asd, asd, asd\n",
    "asd, asd, asd, sad"
   ]
  }
 ],
 "metadata": {
  "kernelspec": {
   "display_name": "Python 3",
   "language": "python",
   "name": "python3"
  },
  "language_info": {
   "codemirror_mode": {
    "name": "ipython",
    "version": 3
   },
   "file_extension": ".py",
   "mimetype": "text/x-python",
   "name": "python",
   "nbconvert_exporter": "python",
   "pygments_lexer": "ipython3",
   "version": "3.10.9"
  },
  "orig_nbformat": 4,
  "vscode": {
   "interpreter": {
    "hash": "49a78e8700fd94a5058b7952b2dc9d37118c9f046123397616bdc30e9ff94820"
   }
  }
 },
 "nbformat": 4,
 "nbformat_minor": 2
}
